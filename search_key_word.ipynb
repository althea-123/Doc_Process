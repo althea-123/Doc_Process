{
 "cells": [
  {
   "cell_type": "code",
   "execution_count": 47,
   "metadata": {},
   "outputs": [
    {
     "name": "stdout",
     "output_type": "stream",
     "text": [
      "Enter the key word:flag note\n",
      "{'PageNum': [33, 84, 105, 107], 'Text': ['   REVISION K \\n DRM 1.2\\n  2-final\\n **Added   *Revise\\nd Printed / Downloaded copies of this document are uncontrolled for use\\n. Page \\n11 of \\n25 Table 1\\n Item\\n Source\\n Definition or Description\\n Engineering \\n\\nAss\\nembly \\nInstruction (EAI)\\n Phoenix work instruction\\n 1E3\\n-1 - 2013 defines assembly sequences, techniques and relationships \\nbetween parts for an assembly.  EAIs may also define teardown \\ninspection instructions (Green Run Inspections), which are \\noccasionally use\\nd following initial testing of production items.\\n Engineering\\n Source\\n Approval (ESA)\\n AP-1613 Rev Initial\\n A process invoked by Engineering and Technology (E&T) by \\nwhich the sources of parts deemed critical to the service life \\n\\nand / or reliability of the end \\nproduct must be approved and \\ncontrolled by E&T.\\n engineering \\nsource \\nsubstantiation\\n MCOE Standards\\n the highest level of control imposed on a source. It is typically \\ndenoted on the engineering drawing by the phrase \\nﬁCONTROLLED SOURCE REQUIREDﬂ\\n or ﬁENGINEERIN\\nG SOURCE APPROVALﬂ\\n.  Reference \\nPhoenix work instruction\\n 4J Œ 2014 and AP\\n-1613. excess material\\n HGS1003\\n Rev B\\n a protrusion exhibiting characteristics similar to flash, but not \\nrestricted in height and having a thickness greater than 0.040 \\ninch.\\n Export \\nAdm\\ninistration \\nRegulations \\n(EAR)\\n AP-1044 Rev 3\\n Export regulations administered by the U.S. Department of \\n\\nCommerce covering commercial products, technical data and \\nsoftware under the Export Administration Act. \\n family tabulation\\n DRM 3.2 Rev C\\n a method of tabu\\nlating similar items using separate monodetail \\ndrawings that all have a drawing number comprised of a \\ncommon base number but different suffixes.\\n fillet\\n HGS1003\\n Rev B\\n the concave junction at the intersection of the surfaces forming \\nan internal (inside) cor\\nner as a result of the processing method \\nor machine tooling.\\n **fillet radius\\n **ASME Y14.8\\n-2009 **the concave radius on the surface of a part\\n connecting two surfaces (see Fig. 1\\n-1). Fillet radii are\\n intended to minimize stress concentrations, aid in proper\\n fi ll, and minimize cosmetic defects.\\n find number\\n Y14.34\\n-2013 a reference number assigned to designate an item on the field of \\nthe drawing, in lieu of using the item™s part or identifying \\n\\nnumber. It is entered as a cross\\n-reference to the line of the part\\ns list where the item™s actual part or identifying number and \\ndescription are given.\\n find number \\nsymbol\\n DRM 6.4.1 Rev G\\n The find number symbol provides a cross reference for an item \\nshown in the field of the drawing to its part\\n or identifying \\nnumber and d\\nescription in the parts list.\\n flag note\\n ASME Y14.\\n34-2013 a note whose text is prefixed by a note identification enclosed \\nwithin a symbol (flag). The note is cross\\n-referenced to a \\nspecific area on a drawing or associated list by entering the flag \\nat the po\\nint of application.\\n **HGS1003 Rev B\\n **In the field of the drawing/model, a number enclosed in a \\ndelta (triangle) refers the drawing user to a specific numbered \\nnote in the general notes list column on the drawing (also called \\na flag note). \\n ', '   REVISION \\nM DRM 2.5\\n  **Added    *Revised\\n Printed / Downloaded copies of this document are uncontrolled for use\\n Page \\n5 of \\n7 Table 1 \\n- continued\\n          ( 1 )\\n **(2A)\\n ( 2 )\\n ( 3 )\\n ( 4 )\\n ( 5 )\\n ( 6 )\\n ( 7 )\\n FIND\\n NO.\\n **QTY\\n QTY\\n PART NUMBER\\n CAGE \\nCODE\\n NOMENCLATURE\\n NOTE\\n ZONE\\n **(8)\\n **(8)\\n PARTS LIST\\n   Block\\n Entry Instruction\\n 4 *Enter the CAGE Code of the Honeywell design activity \\nfor part numbers owned by non CDA and \\nfor \\nMCOE standard parts such as VICD (ten\\n-digit parts), or ﬁSﬂ standard parts.  When the design activity for \\nthe part number or specification is the same as the design activity for the drawing, it is optional to enter \\nthe CAGE Code.  When the part number is a nationally recognized standard, the CAGE Code entry is \\noptional.\\n **NOTE: \\nExcept when required by customer contract, Vendor part numbers are no longer \\npermitted\\n on Honeywell drawings. Vendor part numbers shall be su\\nbmitted to Standard to \\nreplace\\n the vendor part \\nwith\\n an existing\\n or new \\nten\\n- digit part number, or to provide an alternate disposition as appropriate.\\n 5 a. As a minimum, the noun name of the item is required.  Additional modifiers, taken from the item™s \\ndrawing or specification, may be included as space permits.\\n b. For non\\n-procurable components that will have ﬁas furnishedﬂ commercial stock surfaces remaining on \\nthe finished part, the stock size as shown in Figure 6 is required.\\n 6 a. Enter the number of \\nany note(s) that relates to the corresponding part number. This column shall be \\nused as applicable to denote items such as material; vendor and/or source control items, (as noted in \\nb); traceable items. Other notes may be listed in this column or attached \\nto the applicable find \\nnumber symbol in the field of the drawing with a \\nflag note\\n symbol.\\n b. Enter the applicable note number when any \\nVICD or SCD items appear in the parts\\n list:\\n  0004437 (VENDOR\\n ITEM \\nŒ SEE VENDOR ITEM CONTROL DRAWING. )\\n  0004436 (VENDOR\\n ITEM \\nŒ SEE SOURCE CONTROL DRAWING. )\\n c. For non\\n-procurable components, enter the note number that specifies the material\\n and the note \\nnumber related to the following note:\\n NON-PROCURABLE ITEM DEFINED BY THIS DRAWING.\\n d. For bulk items called out in numbered \\nnotes, enter that note number.\\n 7 a. Enter the zone location of the find number symbol.  See DRM 1.3 for zone cross\\n-reference format.\\n b. For bulk items called out in a numbered note, enter ﬁNAﬂ.\\n **8 **When a \\nparts lists is required f\\nor a Tabulated drawing per \\nDRM 3.2 additional columns are added as \\nshown in Figure 2.\\n The suffix identifier of each final configuration \\nshall be entered\\n.           ', ' \\n \\n \\nREV \\nD\\n \\nDRM \\n2\\n.\\n9\\n \\n \\n**Added    *Revised\\n \\nPrinted / Downloaded copies of this document are uncontrolled for use\\n \\nPage \\n4\\n \\nof \\n6\\n \\n7.3\\n \\nFlow Area KC\\n \\n7.3.1\\n \\nWhen variation in Flow Area requires \\nmonitoring the KC and notes shall be flagged as shown in Figure 4.\\n \\n \\n601.\\n \\nEFFE\\nCTIV\\nE FL\\nO\\nW\\n \\nAR\\nEA \\nO\\nF \\nHO\\nLES\\n \\nI\\nN \\nROW\\nS 18 \\n\\n \\n25 S\\nHA\\nLL \\nB\\nE 0.942 \\nSQ\\n.\\n \\nIN\\n. PL\\nU\\nS \\nO\\nR \\n \\n        \\nMINU\\nS 10 PE\\nRC\\nE\\nN\\nT\\n \\nA\\nS \\nD\\nE\\nT\\nE\\nRMIN\\nED \\nB\\nY S\\nU\\nB \\nSONI\\nC \\nAI\\nR FL\\nO\\nW\\n \\nWIT\\nH\\n \\nA\\nLL \\nOTH\\nER\\n \\n        \\nORIFIC\\nES PL\\nUGG\\nE\\nD\\n.\\n \\n \\n602. \\nFEATURES IDENTIFIED BY FRAMED LETTERS KC REQUIRE STATISTICAL PROCESS \\nCONTROL (SPC) IN ACCORDANCE WITH HGS1021\\n.\\n \\nCHAR\\nT \\nTH\\nE \\nACTUA\\nL FL\\nO\\nW \\nAR\\nEA \\nA\\nS\\n \\nCA\\nL\\nCU\\nL\\nAT\\nED\\n \\nI\\nN \\nA\\nCCORDANC\\nE \\nWIT\\nH \\nNOT\\nE\\n \\n601.\\n \\n*\\nFigure 4 \\n\\n \\nKey Characteristic \\nFlow Area\\n \\n \\n7.4\\n \\nD\\nra\\nw\\ning\\n \\nN\\notes\\n \\n7.4.1\\n \\nW\\nh\\ne\\nn\\n \\nt\\nhe\\n \\ne\\nn\\nt\\ni\\nr\\ne\\n \\nc\\no\\nn\\nte\\nn\\nt \\no\\nf\\n \\na\\n \\nnu\\nm\\nb\\nere\\nd n\\no\\nt\\ne\\n \\ni\\ns\\n \\na\\n \\nKC\\n,\\n \\na KC symbol, as shown in Figure 1B \\ni\\ns p\\nla\\nc\\ne\\nd \\na\\nd\\nja\\nc\\ne\\nnt\\n \\nt\\no\\n \\nt\\nhe\\n \\nnote in the general notes list or next to the flag note symb\\nol when a symbol is used \\n-\\n \\na\\ns\\n \\ns\\nho\\nw\\nn\\n \\ni\\nn \\nF\\ni\\ng\\nu\\nr\\ne\\n \\n4\\n.\\n \\n7.4.2\\n \\nW\\nh\\ne\\nn\\n \\nt\\nhe\\n \\ne\\nn\\nt\\ni\\nr\\ne\\n \\nn\\no\\nt\\ne\\n \\ni\\ns\\n \\nn\\no\\nt\\n \\ns\\nu\\nb\\nj\\ne\\nc\\nt\\n \\nt\\no SP\\nC\\n \\nc\\non\\nt\\nr\\no\\nl\\n, b\\nu\\nt\\n \\non\\nl\\ny\\n \\nce\\nr\\nt\\na\\ni\\nn p\\nr\\no\\nc\\ne\\nss\\ne\\ns\\n \\nd\\ne\\nfi\\nn\\ne\\nd \\nw\\ni\\nt\\nh\\ni\\nn\\n \\nt\\nhe\\n \\nno\\nt\\ne\\n;\\n \\n7.4.2.1\\n \\nA\\n \\nKC symbol, as shown in Figure 1B is pla\\nc\\ned a\\nd\\nja\\nc\\nent\\n \\nto\\n \\nthe\\n \\nnote in the general notes list\\n;\\n \\n7.4.2.2\\n \\n*\\nD\\nescribe \\n\\n1\\n\\n \\nof the following note:\\n \\n*\\n000\\n9\\n987\\n \\n*\\n(\\nFEATURES IDENTIFIED BY FRAMED LETTERS KC REQUIRE STATISTICAL PROCESS \\nCONTROL (SPC) IN ACCORDANCE WITH HGS1021\\n.\\n[\\n1\\n:\\n]\\n)\\n \\n*\\n\\n1\\n\\n \\nto clarify KC requirement. \\n \\n7.4.3\\n \\nWhen there are multiple KCs \\nidentified \\non the same drawing,\\n \\nand share the same requirement, only one \\nnote similar to the one shown above is required.\\n \\n7.4.3.1\\n \\nIn the event\\n \\nthat the requirements are different or ambiguous \\nthose\\n \\ndifferenc\\nes \\nshall be spelled out\\n. The\\n \\nfollow\\ning i\\ns\\n \\nan example\\n:\\n \\n*\\nFEATURES IDENTIFIED BY FRAMED LETTERS KC REQUIRE STATISTICAL PROCESS CONTROL \\n(SPC) IN ACCORDANCE WITH HGS1021\\n.\\n[1:]\\n \\n \\nKC\\n-\\n1\\n, 3\\n \\nFEATURE OF SIZE\\n \\nWHERE TARGET NOMINAL\\n;\\n \\nKC\\n-\\n2\\n, 4 AND 5\\n \\nRUNOUT\\n \\nTARGET IS ZERO\\n \\nMEA\\nSURED AT POINTS K, L, AND M.\\n \\n', ' \\n \\n \\nREV \\nD\\n \\nDRM \\n2\\n.\\n9\\n \\n \\n**Added    *Revised\\n \\nPrinted / Downloaded copies of this document are uncontrolled for use\\n \\nPage \\n6\\n \\nof \\n6\\n \\n8.2\\n \\nCC required for Resultant condition\\n \\n8.2.1\\n \\nWhen the CC feature is not directly dimensioned but results from a stack of tolerances applied to other \\nelements of the part or assembly, enter the value as a resultant with the word \"RESULTANT\" and letters \"MAX\" \\nor \"MIN\\n\" (as applicable) adjacent to the CC symbol. See Figure 6.\\n \\n \\n \\n \\n601. \\nFEATURES IDENTIFIED BY FRAMED LETTERS CC SHALL BE INSPECTED IN ACCORDANCE \\nWITH HGS1021\\n.\\n[\\n1\\n:]\\n \\n*\\nFigure 6 \\n\\n \\nCritical\\n \\nCharacteristic identified Resultant condition\\n \\n \\n8.3\\n \\nNon\\n-\\nDimensioned Features \\n\\n \\nN\\non\\n-\\ndimensioned \\ncritical\\n \\ncharacteristics shall be specified in a drawing note \\nas follows:\\n \\na.\\n \\nWhen a flag note is used, the CC symbol shall be added to the \\nflag \\nnote symbol as shown in\\n \\nFigure 7.\\n \\nb.\\n \\nWhen a general note is used without a flag note in the field of \\nthe drawing, \\na CC symbol, as shown in \\nFigure 1A \\ni\\ns p\\nla\\nc\\ne\\nd \\na\\nd\\nja\\nc\\ne\\nnt\\n \\nt\\no\\n \\nt\\nhe\\n \\nnote in the general notes list, see Figure 8.\\n \\n \\n \\n \\n501. HARD ANODIZE IN ACCORDANCE WITH MIL\\n-\\nA\\n-\\n8625 TYPE III CLASS 2 BLACK .0002\\n-\\n \\n.0004 \\nTHICK.\\n \\n \\n601. \\nFEATURES IDENTIFIED BY FRAMED LETTE\\nRS CC SHALL BE INSPECTED IN ACCORDANCE \\nWITH HGS1021\\n.\\n[\\n1\\n:]\\n \\n*\\nFigure 7 \\n\\n \\nCritical\\n \\nCharacteristic non\\n-\\ndimensioned\\n \\n \\n \\n501. HARD ANODIZE IN ACCORDANCE WITH MIL\\n-\\nA\\n-\\n8625 TYPE III CLASS 2 BLACK\\n \\n        \\n.0002\\n-\\n \\n.0004 THICK.        \\n \\n \\n601. \\nFEATURES IDENTIFIED BY FRAMED\\n \\nLETTERS CC SHALL BE INSPECTED IN ACCORDANCE \\nWITH HGS1021\\n.\\n[\\n1\\n:]\\n \\n*\\nFigure \\n8\\n \\n\\n \\nCritical\\n \\nCharacteristic \\nnote\\n \\n \\n']}\n"
     ]
    }
   ],
   "source": [
    "import PyPDF2\n",
    "import re\n",
    "import os\n",
    "import pandas as pd\n",
    "\n",
    "# open the pdf file\n",
    "object = PyPDF2.PdfFileReader(\"C:/Users/H386001/OneDrive - Honeywell/projects/Python/DRM Improve/pdf/merge.pdf\",'rb')\n",
    "\n",
    "# get number of pages\n",
    "NumPages = object.getNumPages()\n",
    "\n",
    "# define keyterms\n",
    "String = input(\"Enter the key word:\")\n",
    "L = {\"PageNum\":[],\"Text\":[]}\n",
    "# extract text and do the search\n",
    "for i in range(0, NumPages):\n",
    "    PageObj = object.getPage(i)\n",
    "    #print(\"this is page \" + str(i)) \n",
    "    PageNum = int(i) + 1\n",
    "    Text = PageObj.extractText() \n",
    "    # print(Text)\n",
    "    ResSearch = re.search(String, Text)\n",
    "    #print(ResSearch)\n",
    "    if ResSearch != None:\n",
    "        # print(\"this is page \" + str(PageNum))\n",
    "        # print(Text)\n",
    "        L[\"PageNum\"].append(PageNum)\n",
    "        L[\"Text\"].append(Text)\n",
    "print(L)\n",
    "# file1=open(r\"C:/Users/H386001/OneDrive - Honeywell/projects/Python/DRM Improve/pdf/1.txt\",\"w+\")\n",
    "# file1.writelines(str(PageNum))\n",
    "# file1.close()"
   ]
  },
  {
   "cell_type": "code",
   "execution_count": null,
   "metadata": {},
   "outputs": [],
   "source": []
  }
 ],
 "metadata": {
  "kernelspec": {
   "display_name": "Python 3",
   "language": "python",
   "name": "python3"
  },
  "language_info": {
   "codemirror_mode": {
    "name": "ipython",
    "version": 3
   },
   "file_extension": ".py",
   "mimetype": "text/x-python",
   "name": "python",
   "nbconvert_exporter": "python",
   "pygments_lexer": "ipython3",
   "version": "3.7.6"
  }
 },
 "nbformat": 4,
 "nbformat_minor": 4
}
