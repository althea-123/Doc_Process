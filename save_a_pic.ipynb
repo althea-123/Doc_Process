{
 "cells": [
  {
   "cell_type": "code",
   "execution_count": 1,
   "metadata": {},
   "outputs": [],
   "source": [
    "# imported the requests library\n",
    "import requests\n",
    "image_url = \"https://www.python.org/static/community_logos/python-logo-master-v3-TM.png\"\n",
    "  \n",
    "# URL of the image to be downloaded is defined as image_url\n",
    "r = requests.get(image_url) # create HTTP response object\n",
    "  \n",
    "# send a HTTP request to the server and save\n",
    "# the HTTP response in a response object called r\n",
    "with open(\"python_logo.png\",'wb') as f:\n",
    "  \n",
    "    # Saving received content as a png file in\n",
    "    # binary format\n",
    "  \n",
    "    # write the contents of the response (r.content)\n",
    "    # to a new file in binary mode.\n",
    "    f.write(r.content)"
   ]
  },
  {
   "cell_type": "code",
   "execution_count": null,
   "metadata": {},
   "outputs": [],
   "source": []
  }
 ],
 "metadata": {
  "kernelspec": {
   "display_name": "Python 3",
   "language": "python",
   "name": "python3"
  },
  "language_info": {
   "codemirror_mode": {
    "name": "ipython",
    "version": 3
   },
   "file_extension": ".py",
   "mimetype": "text/x-python",
   "name": "python",
   "nbconvert_exporter": "python",
   "pygments_lexer": "ipython3",
   "version": "3.7.6"
  }
 },
 "nbformat": 4,
 "nbformat_minor": 4
}
