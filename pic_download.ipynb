{
 "cells": [
  {
   "cell_type": "code",
   "execution_count": 6,
   "metadata": {},
   "outputs": [
    {
     "name": "stdout",
     "output_type": "stream",
     "text": [
      "[]\n"
     ]
    }
   ],
   "source": [
    "#-*- coding:utf-8 -*-\n",
    "import requests\n",
    "import re\n",
    "import os\n",
    "from bs4 import BeautifulSoup\n",
    "from urllib.error import HTTPError\n",
    "\n",
    " \n",
    "url = 'http://www.sigapublic.net/'\n",
    "html = requests.get(url).text  #获取网页内容\n",
    "# print(html)\n",
    "# 这里由于有些图片可能存在网址打不开的情况，加个5秒超时控制。\n",
    "#data-objurl=\"http://pic38.nipic.com/20140218/17995031_091821599000_2.jpg\"获取这种类型链接\n",
    "# http://www.sigapublic.net/upload/20210318/1616037479305.jpg\n",
    "soup = BeautifulSoup(html,'html.parser',from_encoding='utf-8')\n",
    "\n",
    "pic_url = soup.find_all('img',src=re.compile(r'^http://www.sigapublic.net/upload/.*?jpg$'))\n",
    "\n",
    "print(pic_url)\n",
    "i = 0\n",
    "#判断image文件夹是否存在，不存在则创建\n",
    "if not os.path.exists('image'):\n",
    "    os.makedirs('image')\n",
    "for url in pic_url:\n",
    "    img = url['src']\n",
    "    try:\n",
    "        pic = requests.get(img,timeout=5)  #超时异常判断 5秒超时\n",
    "    except requests.exceptions.ConnectionError:\n",
    "        print('当前图片无法下载')\n",
    "        continue\n",
    "    file_name = \"image/\"+str(i)+\".jpg\" #拼接图片名\n",
    "    print(file_name)\n",
    "    #将图片存入本地\n",
    "    fp = open(file_name,'wb')\n",
    "    fp.write(pic.content) #写入图片\n",
    "    fp.close()\n",
    "    i+=1\n"
   ]
  },
  {
   "cell_type": "code",
   "execution_count": null,
   "metadata": {},
   "outputs": [],
   "source": []
  }
 ],
 "metadata": {
  "kernelspec": {
   "display_name": "Python 3",
   "language": "python",
   "name": "python3"
  },
  "language_info": {
   "codemirror_mode": {
    "name": "ipython",
    "version": 3
   },
   "file_extension": ".py",
   "mimetype": "text/x-python",
   "name": "python",
   "nbconvert_exporter": "python",
   "pygments_lexer": "ipython3",
   "version": "3.7.6"
  }
 },
 "nbformat": 4,
 "nbformat_minor": 5
}
