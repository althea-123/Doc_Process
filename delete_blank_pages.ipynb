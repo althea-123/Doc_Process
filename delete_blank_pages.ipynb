{
 "cells": [
  {
   "cell_type": "code",
   "execution_count": 14,
   "metadata": {},
   "outputs": [
    {
     "name": "stdout",
     "output_type": "stream",
     "text": [
      "119\n",
      "dict_keys(['/Contents', '/CropBox', '/MediaBox', '/Parent', '/Resources', '/Rotate', '/Type'])\n",
      "dict_keys(['/CropBox', '/Parent', '/StructParents', '/Contents', '/Rotate', '/MediaBox', '/Resources', '/Type'])\n",
      "dict_keys(['/Contents', '/CropBox', '/MediaBox', '/Parent', '/Resources', '/Rotate', '/StructParents', '/Type'])\n",
      "{'/ColorSpace': {'/CS0': IndirectObject(854, 0), '/CS1': IndirectObject(856, 0)}, '/Font': {'/TT0': IndirectObject(858, 0), '/TT1': IndirectObject(860, 0), '/TT2': IndirectObject(864, 0), '/TT3': IndirectObject(899, 0)}}\n"
     ]
    }
   ],
   "source": [
    "import os\n",
    "from PyPDF2 import PdfFileMerger,PdfFileReader, PdfFileWriter\n",
    "\n",
    "path = r\"C:\\Users\\H386001\\OneDrive - Honeywell\\projects\\Python\\DRM Improve\\pdf\\merge.pdf\"\n",
    "path_output = r\"C:\\Users\\H386001\\OneDrive - Honeywell\\projects\\Python\\DRM Improve\\pdf\\output.pdf\"\n",
    "\n",
    "reader = PdfFileReader(open(path,'rb'))\n",
    "writer = PdfFileWriter()\n",
    "pages = reader.getNumPages()\n",
    "print(pages)\n",
    "blank= reader.getPage(0)\n",
    "full = reader.getPage(10)\n",
    "print(blank.keys())\n",
    "print(full.keys())\n",
    "\n",
    "\n",
    "print(blank['/Resources'])\n",
    "print(full['/Resources'])\n",
    "\n",
    "for i in range(pages):\n",
    "    page = reader.getPage(i)\n",
    "#     if \"/Font\" in page[\"/Resources\"].keys() or \"/Group\" in page:\n",
    "    if \"/Font\" in page[\"/Resources\"].keys() or '/XObject' in page[\"/Resources\"] or '/ProcSet'in page[\"/Resources\"] or '/ColorSpace' in page[\"/Resources\"] or '/Properties' in page[\"/Resources\"]:\n",
    "        writer.addPage(page)\n",
    "    \n",
    "writer.write(open(path_output, 'wb'))"
   ]
  },
  {
   "cell_type": "code",
   "execution_count": null,
   "metadata": {},
   "outputs": [],
   "source": []
  }
 ],
 "metadata": {
  "kernelspec": {
   "display_name": "Python 3",
   "language": "python",
   "name": "python3"
  },
  "language_info": {
   "codemirror_mode": {
    "name": "ipython",
    "version": 3
   },
   "file_extension": ".py",
   "mimetype": "text/x-python",
   "name": "python",
   "nbconvert_exporter": "python",
   "pygments_lexer": "ipython3",
   "version": "3.7.6"
  }
 },
 "nbformat": 4,
 "nbformat_minor": 4
}
