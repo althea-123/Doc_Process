{
 "cells": [
  {
   "cell_type": "code",
   "execution_count": null,
   "metadata": {},
   "outputs": [
    {
     "name": "stdout",
     "output_type": "stream",
     "text": [
      "Enter the key word:flag note\n"
     ]
    },
    {
     "name": "stderr",
     "output_type": "stream",
     "text": [
      "PdfReadWarning: Xref table not zero-indexed. ID numbers for objects will be corrected. [pdf.py:1736]\n"
     ]
    },
    {
     "name": "stdout",
     "output_type": "stream",
     "text": [
      "this is page 0\n",
      "None\n",
      "this is page 1\n",
      "None\n",
      "this is page 2\n",
      "None\n",
      "this is page 3\n",
      "None\n",
      "this is page 4\n",
      "None\n"
     ]
    }
   ],
   "source": [
    "import PyPDF2\n",
    "import re\n",
    "import os\n",
    "\n",
    "\n",
    "for foldername,subfolders,files in os.walk(r\"C:/Users/H386001/OneDrive - Honeywell/projects/Python/DRM Improve/pdf\"):\n",
    "    for file in files:\n",
    "        # open the pdf file\n",
    "        object = PyPDF2.PdfFileReader(os.path.join(foldername,file))\n",
    "\n",
    "        # get number of pages\n",
    "        NumPages = object.getNumPages()\n",
    "\n",
    "        # define keyterms\n",
    "        String = input(\"Enter the key word:\")\n",
    "\n",
    "        # extract text and do the search\n",
    "        for i in range(0, NumPages):\n",
    "            PageObj = object.getPage(i)\n",
    "            print(\"this is page \" + str(i)) \n",
    "            Text = PageObj.extractText() \n",
    "            # print(Text)\n",
    "            ResSearch = re.search(String, Text)\n",
    "            print(ResSearch)"
   ]
  },
  {
   "cell_type": "code",
   "execution_count": null,
   "metadata": {},
   "outputs": [],
   "source": []
  }
 ],
 "metadata": {
  "kernelspec": {
   "display_name": "Python 3",
   "language": "python",
   "name": "python3"
  },
  "language_info": {
   "codemirror_mode": {
    "name": "ipython",
    "version": 3
   },
   "file_extension": ".py",
   "mimetype": "text/x-python",
   "name": "python",
   "nbconvert_exporter": "python",
   "pygments_lexer": "ipython3",
   "version": "3.7.6"
  }
 },
 "nbformat": 4,
 "nbformat_minor": 4
}
