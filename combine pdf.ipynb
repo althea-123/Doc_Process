{
 "cells": [
  {
   "cell_type": "code",
   "execution_count": 1,
   "metadata": {},
   "outputs": [
    {
     "name": "stderr",
     "output_type": "stream",
     "text": [
      "PdfReadWarning: Xref table not zero-indexed. ID numbers for objects will be corrected. [pdf.py:1736]\n"
     ]
    }
   ],
   "source": [
    "import os\n",
    "from PyPDF2 import PdfFileMerger,PdfFileReader, PdfFileWriter\n",
    "\n",
    "target_path = r'C:\\Users\\H386001\\OneDrive - Honeywell\\projects\\Python\\DRM Improve\\pdf'\n",
    "pdf_lst = [f for f in os.listdir(target_path) if f.endswith('.pdf')]\n",
    "pdf_lst = [os.path.join(target_path, filename) for filename in pdf_lst]\n",
    "\n",
    "file_merger = PdfFileMerger()\n",
    "for pdf in pdf_lst:\n",
    "    file_merger.append(pdf)\n",
    "\n",
    "file_merger.write(r\"C:\\Users\\H386001\\OneDrive - Honeywell\\projects\\Python\\DRM Improve\\pdf\\merge.pdf\")\n",
    "# path = r\"C:\\Users\\H386001\\OneDrive - Honeywell\\projects\\Python\\DRM Improve\\pdf\\merge.pdf\"\n",
    "# path_output = r\"C:\\Users\\H386001\\OneDrive - Honeywell\\projects\\Python\\DRM Improve\\pdf\\output.pdf\"\n",
    "\n",
    "# reader = PdfFileReader(open(path,'rb'))\n",
    "# writer = PdfFileWriter()\n",
    "# pages = pdfReader.getNumPages()\n",
    "# print(pages)\n",
    "# blank= reader.getPage(190)\n",
    "# full = reader.getPage(10)\n",
    "# # print(blank.keys())\n",
    "# # print(full.keys())\n",
    "# print(blank['/Resources'])\n",
    "# print(full['/Resources'])\n",
    "\n",
    "# for i in range(pages):\n",
    "#     page = reader.getPage(i)\n",
    "# #     if \"/Font\" in page[\"/Resources\"].keys() or \"/Group\" in page:\n",
    "#     if \"/Font\" in page[\"/Resources\"].keys() or '/XObject' in page[\"/Resources\"] or '/ProcSet'in page[\"/Resources\"] or '/ColorSpace' in page[\"/Resources\"] or '/Properties' in page[\"/Resources\"]:\n",
    "#         writer.addPage(page)\n",
    "    \n",
    "# writer.write(open(path_output, 'wb'))\n"
   ]
  },
  {
   "cell_type": "code",
   "execution_count": null,
   "metadata": {},
   "outputs": [],
   "source": []
  },
  {
   "cell_type": "code",
   "execution_count": null,
   "metadata": {},
   "outputs": [],
   "source": []
  }
 ],
 "metadata": {
  "kernelspec": {
   "display_name": "Python 3",
   "language": "python",
   "name": "python3"
  },
  "language_info": {
   "codemirror_mode": {
    "name": "ipython",
    "version": 3
   },
   "file_extension": ".py",
   "mimetype": "text/x-python",
   "name": "python",
   "nbconvert_exporter": "python",
   "pygments_lexer": "ipython3",
   "version": "3.7.6"
  }
 },
 "nbformat": 4,
 "nbformat_minor": 4
}
